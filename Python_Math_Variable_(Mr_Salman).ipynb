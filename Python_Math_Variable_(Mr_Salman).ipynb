{
  "nbformat": 4,
  "nbformat_minor": 0,
  "metadata": {
    "colab": {
      "provenance": [],
      "authorship_tag": "ABX9TyPQwqQpub+P/Kx7/w1GzaAt",
      "include_colab_link": true
    },
    "kernelspec": {
      "name": "python3",
      "display_name": "Python 3"
    },
    "language_info": {
      "name": "python"
    }
  },
  "cells": [
    {
      "cell_type": "markdown",
      "metadata": {
        "id": "view-in-github",
        "colab_type": "text"
      },
      "source": [
        "<a href=\"https://colab.research.google.com/github/Salmangenius22/2042031_Salman-Abdussalam_inventori.herokuapp.com/blob/master/Python_Math_Variable_(Mr_Salman).ipynb\" target=\"_parent\"><img src=\"https://colab.research.google.com/assets/colab-badge.svg\" alt=\"Open In Colab\"/></a>"
      ]
    },
    {
      "cell_type": "markdown",
      "source": [
        "🌟 Tema Cerita: Petualangan di Dunia Kode - Desa Pythonia\n",
        "🎯 Tokoh Utama: Timi si Penjelajah Cilik dan robotnya, Piko"
      ],
      "metadata": {
        "id": "RJ6Qf4whTsXs"
      }
    },
    {
      "cell_type": "markdown",
      "source": [
        "🧵 LESSON 1: Pengenalan Python - \"Gerbang ke Desa Pythonia\"\n",
        "👧 Cerita:\n",
        "Timi menemukan peta ajaib yang membawanya ke Desa Pythonia, desa para kode! Di pintu masuk, ada tulisan:"
      ],
      "metadata": {
        "id": "RS7d5sC2T3vL"
      }
    },
    {
      "cell_type": "code",
      "source": [
        "\"Untuk jadi warga Pythonia, kamu harus belajar Bahasa Python dulu!\""
      ],
      "metadata": {
        "colab": {
          "base_uri": "https://localhost:8080/",
          "height": 35
        },
        "id": "Ov-zWG_WT3WW",
        "outputId": "871c0298-5187-40f5-d230-a9685aa63a2d"
      },
      "execution_count": 1,
      "outputs": [
        {
          "output_type": "execute_result",
          "data": {
            "text/plain": [
              "'Untuk jadi warga Pythonia, kamu harus belajar Bahasa Python dulu!'"
            ],
            "application/vnd.google.colaboratory.intrinsic+json": {
              "type": "string"
            }
          },
          "metadata": {},
          "execution_count": 1
        }
      ]
    },
    {
      "cell_type": "markdown",
      "source": [
        "Python bukan ular, tapi bahasa ajaib yang digunakan untuk memberi perintah ke robot Piko agar bisa bekerja!"
      ],
      "metadata": {
        "id": "thXzIKCcUNV_"
      }
    },
    {
      "cell_type": "markdown",
      "source": [
        "📚 Penjelasan Kidsly:"
      ],
      "metadata": {
        "id": "B4_a-lGeUbYK"
      }
    },
    {
      "cell_type": "code",
      "source": [
        "\"Python itu seperti bahasa rahasia antara kamu dan robot. Kalau kamu tahu bahasanya, kamu bisa membuat robot Piko nyanyi, menari, bahkan bikin permainan!\""
      ],
      "metadata": {
        "id": "7gRU3YFhUe2m"
      },
      "execution_count": null,
      "outputs": []
    },
    {
      "cell_type": "markdown",
      "source": [
        "🧵 LESSON 2: Variable - \"Kotak Rahasia Milik Timi\"\n",
        "👧 Cerita:\n",
        "Timi diberi banyak kotak ajaib oleh kepala desa. Di setiap kotak, Timi bisa menyimpan sesuatu. Kotaknya diberi nama, supaya Piko bisa tahu isinya."
      ],
      "metadata": {
        "id": "BvIRMY6SUmS3"
      }
    },
    {
      "cell_type": "code",
      "source": [
        "nama = \"Timi\"\n",
        "umur = 10"
      ],
      "metadata": {
        "id": "uIjyrzFKUtvR"
      },
      "execution_count": null,
      "outputs": []
    },
    {
      "cell_type": "markdown",
      "source": [
        "📚 Penjelasan Kidsly:\n",
        "\"Variable itu seperti kotak. Kamu beri nama pada kotaknya, lalu isi dengan apapun yang kamu mau. Nanti kalau butuh, tinggal sebut nama kotaknya!\""
      ],
      "metadata": {
        "id": "6uTWe-obU1S4"
      }
    },
    {
      "cell_type": "markdown",
      "source": [
        "🧵 LESSON 3: Tipe Data - \"Isi Kotak yang Berbeda-beda\"\n",
        "👧 Cerita:\n",
        "Robot Piko bingung, karena kotak Timi isinya beda-beda! Ada yang isinya angka, kata-kata, dan benar-salah.\n",
        "\n",
        "Contoh:"
      ],
      "metadata": {
        "id": "5HYx2cRvU8LC"
      }
    },
    {
      "cell_type": "code",
      "source": [
        "nama = \"Timi\"       # tipe data: teks (string)\n",
        "umur = 10           # tipe data: angka bulat (integer)\n",
        "tinggi = 1.45       # tipe data: angka desimal (float)\n",
        "suka_main = True    # tipe data: benar/salah (boolean)"
      ],
      "metadata": {
        "id": "eCvBVbvZVB5P"
      },
      "execution_count": null,
      "outputs": []
    },
    {
      "cell_type": "markdown",
      "source": [
        "📚 Penjelasan Kidsly:\n",
        "\"Tipe data itu seperti jenis barang dalam kotak. Ada kotak berisi tulisan, angka, atau hanya jawaban 'ya' atau 'tidak'.\"\n",
        "\n"
      ],
      "metadata": {
        "id": "R5d3U8noVKLe"
      }
    },
    {
      "cell_type": "markdown",
      "source": [
        "🧵 LESSON 4: Menentukan Variable - \"Memberi Nama pada Kotak\"\n",
        "👧 Cerita:\n",
        "Timi ingin memberi nama kotaknya dengan rapi supaya tidak bingung. Piko memberi saran:\n",
        "\n",
        "Nama harus jelas\n",
        "\n",
        "Tidak boleh pakai spasi\n",
        "\n",
        "Tidak boleh mulai dengan angka"
      ],
      "metadata": {
        "id": "SqBiwaFGVMT6"
      }
    },
    {
      "cell_type": "code",
      "source": [
        "nama = \"Timi\"\n",
        "umur = 10"
      ],
      "metadata": {
        "id": "MjMlB1f7VTy3"
      },
      "execution_count": null,
      "outputs": []
    },
    {
      "cell_type": "markdown",
      "source": [
        "📚 Penjelasan Kidsly:\n",
        "\"Kalau kamu beri nama kotak sembarangan, robot Piko bisa bingung! Beri nama yang rapi dan mudah dibaca ya!\""
      ],
      "metadata": {
        "id": "Y7FVFVgRVZIH"
      }
    },
    {
      "cell_type": "markdown",
      "source": [
        "🧵 LESSON 5: Menentukan Tipe Data - \"Isi yang Tepat untuk Kotak\"\n",
        "👧 Cerita:\n",
        "Di toko Desa Pythonia, Timi harus memilih isi yang cocok untuk kotak. Kalau ingin simpan nama teman, pakai teks. Kalau mau simpan nilai, pakai angka. Kalau ingin tahu suka atau tidak, pakai benar/salah.\n",
        "\n",
        "Contoh:"
      ],
      "metadata": {
        "id": "v5PcKHrrVerj"
      }
    },
    {
      "cell_type": "code",
      "execution_count": null,
      "metadata": {
        "id": "OlWvWvV0S2g3"
      },
      "outputs": [],
      "source": [
        "nama = \"Rina\"          # teks\n",
        "nilai_matematika = 85  # angka\n",
        "lulus = True           # benar/salah"
      ]
    },
    {
      "cell_type": "markdown",
      "source": [
        "📚 Penjelasan Kidsly:\n",
        "\"Kalau kamu isi kotak dengan isi yang tepat, Piko akan lebih cepat kerja. Jangan sampai isi kotak nama malah angka ya!\""
      ],
      "metadata": {
        "id": "of9z7xkAVksF"
      }
    },
    {
      "cell_type": "markdown",
      "source": [
        "🎮 Mini Quiz Game: Tebak Isi Kotak\n",
        "warna_kesukaan = \"biru\" → Ini tipe data apa?\n",
        "\n",
        "tinggi_badan = 1.50 → Ini tipe data apa?\n",
        "\n",
        "sudah_makan = False → Ini tipe data apa?"
      ],
      "metadata": {
        "id": "FF320HfiVo-0"
      }
    },
    {
      "cell_type": "markdown",
      "source": [
        "🧠 Bonus Aktivitas:\n",
        "\"Buat Kotakmu Sendiri\"\n",
        "\n",
        "Mintalah anak membuat 3 variable tentang dirinya:"
      ],
      "metadata": {
        "id": "qhQEgKfvVpy3"
      }
    },
    {
      "cell_type": "code",
      "source": [
        "nama = ...\n",
        "umur = ...\n",
        "suka_cokelat = ..."
      ],
      "metadata": {
        "id": "EYAqs3xZVtEY"
      },
      "execution_count": null,
      "outputs": []
    },
    {
      "cell_type": "markdown",
      "source": [],
      "metadata": {
        "id": "mUpGcEzTTrmc"
      }
    }
  ]
}